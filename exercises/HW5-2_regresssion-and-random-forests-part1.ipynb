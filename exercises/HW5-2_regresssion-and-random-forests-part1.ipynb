{
 "cells": [
  {
   "cell_type": "markdown",
   "metadata": {},
   "source": [
    "# Using Python for Research Homework: Week 5, Case Study Part 2\n",
    "\n",
    "The [movie dataset on which this case study is based](https://www.kaggle.com/tmdb/tmdb-movie-metadata) is a database of 5000 movies catalogued by [The Movie Database (TMDb)](https://www.themoviedb.org/?language=en). The information available about each movie is its budget, revenue, rating, actors and actresses, etc. In this case study, we will use this dataset to determine whether any information about a movie can predict the total revenue of a movie. We will also attempt to predict whether a movie's revenue will exceed its budget.\n",
    "\n",
    "In Part 2, we will use the dataset prepared in Part 1 for an applied analysis."
   ]
  },
  {
   "cell_type": "code",
   "execution_count": 2,
   "metadata": {},
   "outputs": [],
   "source": [
    "# DO NOT EDIT THIS CODE\n",
    "import pandas as pd\n",
    "import numpy as np\n",
    "\n",
    "from sklearn.model_selection import cross_val_score\n",
    "from sklearn.linear_model import LinearRegression\n",
    "from sklearn.linear_model import LogisticRegression\n",
    "from sklearn.ensemble import RandomForestRegressor\n",
    "from sklearn.ensemble import RandomForestClassifier\n",
    "\n",
    "from sklearn.metrics import accuracy_score\n",
    "from sklearn.metrics import r2_score\n",
    "\n",
    "import matplotlib.pyplot as plt\n",
    "\n",
    "import warnings\n",
    "warnings.filterwarnings(\"ignore\")\n",
    "\n",
    "# EDIT THIS CODE TO LOAD THE SAVED DF FROM THE LAST HOMEWORK\n",
    "df = pd.read_csv('movies_clean.csv')"
   ]
  },
  {
   "cell_type": "markdown",
   "metadata": {},
   "source": [
    "### Exercise 1\n",
    "\n",
    "In Part 2 of this case study, we will primarily use the two models we recently discussed: linear/logistic regression and random forests to perform prediction and classification. We will use these methods to predict revenue, and we will use logistic regression to classify whether a movie was profitable.\n",
    "\n",
    "In this exercise, we will instantiate regression and classification models. Code is provided that prepares the covariates and outcomes we will use for data analysis.\n",
    "\n",
    "#### Instructions\n",
    "- Instantiate `LinearRegression()`, `LogisticRegression()`, `RandomForestRegressor()`, and `RandomForestClassifier()` objects, and assign them to `linear_regression`, `logistic_regression`, `forest_regression`, and `forest_classifier`, respectively.\n",
    "- For the random forests models, specify `max_depth=4` and `random_state=0`."
   ]
  },
  {
   "cell_type": "code",
   "execution_count": 3,
   "metadata": {},
   "outputs": [],
   "source": [
    "# Define all covariates and outcomes from `df`.\n",
    "regression_target = 'revenue'\n",
    "classification_target = 'profitable'\n",
    "all_covariates = ['budget', 'popularity', 'runtime', 'vote_count', 'vote_average', 'Action', 'Adventure', 'Fantasy', \n",
    "                  'Science Fiction', 'Crime', 'Drama', 'Thriller', 'Animation', 'Family', 'Western', 'Comedy', 'Romance', \n",
    "                  'Horror', 'Mystery', 'War', 'History', 'Music', 'Documentary', 'TV Movie', 'Foreign']\n",
    "\n",
    "regression_outcome = df[regression_target]\n",
    "classification_outcome = df[classification_target]\n",
    "covariates = df[all_covariates]\n",
    "\n",
    "# Instantiate all regression models and classifiers.\n",
    "linear_regression = LinearRegression()\n",
    "logistic_regression = LogisticRegression()\n",
    "forest_regression = RandomForestRegressor(max_depth=4, random_state=0)\n",
    "forest_classifier = RandomForestClassifier(max_depth=4, random_state=0)"
   ]
  },
  {
   "cell_type": "markdown",
   "metadata": {},
   "source": [
    "### Exercise 2\n",
    "\n",
    "In this exercise, we will create two functions that compute a model's score. For regression models, we will use correlation as the score. For classification models, we will use accuracy as the score.\n",
    "\n",
    "#### Instructions \n",
    "- Define a function called `correlation` with arguments `estimator`, `X`, and `y`. The function should compute the correlation between the observed outcome `y` and the outcome predicted by the model.\n",
    "    - To obtain predictions, the function should first use the `fit` method of `estimator` and then use the `predict` method from the fitted object.\n",
    "    - The function should return the first argument from `r2_score` comparing `predictions` and `y`.\n",
    "- Define a function called `accuracy` with the same arguments and code, substituting `accuracy_score` for `r2_score`."
   ]
  },
  {
   "cell_type": "code",
   "execution_count": 4,
   "metadata": {},
   "outputs": [],
   "source": [
    "# Enter your code here.\n",
    "\n",
    "def correlation(estimator, X, y):\n",
    "    #estimator.fit(X, y)\n",
    "    predictions = estimator.fit(X,y).predict(X)\n",
    "    return r2_score(y, predictions)\n",
    "\n",
    "def accuracy(estimator, X, y):\n",
    "    #estimator.fit(X, y)\n",
    "    predictions = estimator.fit(X, y).predict(X)\n",
    "    return accuracy_score(y, predictions)\n",
    "    \n"
   ]
  },
  {
   "cell_type": "markdown",
   "metadata": {},
   "source": [
    "### Exercise 3\n",
    "\n",
    "In this exercise, we will compute the cross-validated performance for the linear and random forest regression models.\n",
    "\n",
    "#### Instructions \n",
    "\n",
    "- Call `cross_val_score` using `linear_regression` and `forest regression` as models. Store the output as `linear_regression_scores` and `forest_regression_scores`, respectively.\n",
    "    - Set the parameters `cv=10` to use 10-fold cross-validation and `scoring=correlation` to use our `correlation` function defined in the previous exercise.\n",
    "- Plotting code has been provided to compare the performance of the two models. Use `plt.show()` to plot the correlation between actual and predicted revenue for each cross-validation fold using the linear and random forest regression models.\n",
    "- Which of the two models exhibits a better fit?"
   ]
  },
  {
   "cell_type": "code",
   "execution_count": 5,
   "metadata": {},
   "outputs": [
    {
     "data": {
      "image/png": "[encoded data removed]",
      "text/plain": [
       "<Figure size 432x288 with 1 Axes>"
      ]
     },
     "metadata": {
      "needs_background": "light"
     },
     "output_type": "display_data"
    }
   ],
   "source": [
    "# Determine the cross-validated correlation for linear and random forest models.\n",
    "linear_regression_scores = cross_val_score(linear_regression, covariates, regression_outcome, cv=10, scoring=correlation)\n",
    "forest_regression_scores = cross_val_score(forest_regression, covariates, regression_outcome, cv=10, scoring=correlation)\n",
    "\n",
    "\n",
    "# Plot Results\n",
    "plt.axes().set_aspect('equal', 'box')\n",
    "plt.scatter(linear_regression_scores, forest_regression_scores)\n",
    "plt.plot((0, 1), (0, 1), 'k-')\n",
    "\n",
    "plt.xlim(0, 1)\n",
    "plt.ylim(0, 1)\n",
    "plt.xlabel(\"Linear Regression Score\")\n",
    "plt.ylabel(\"Forest Regression Score\")\n",
    "\n",
    "# Show the plot.\n",
    "plt.show()"
   ]
  },
  {
   "cell_type": "markdown",
   "metadata": {},
   "source": [
    "### Exercise 4\n",
    "\n",
    "In this exercise, we will compute cross-validated performance for the linear and random forest classification models.\n",
    "\n",
    "#### Instructions \n",
    "- Call `cross_val_score` using `logistic_regression` and `forest_classifier` as models. Store the output as `logistic_regression_scores` and `forest_classification_scores`, respectively.\n",
    "    - Set the parameters `cv=10` to use 10-fold cross-validation and `scoring=accuracy` to use our accuracy function defined in the previous exercise.\n",
    "- Plotting code has been provided to compare the performance of the two models. Use `plt.show()` to plot the accuracy of predicted profitability for each cross-validation fold using the logistic and random forest classification models.\n",
    "- Which of the two models exhibits a better fit?"
   ]
  },
  {
   "cell_type": "code",
   "execution_count": 6,
   "metadata": {},
   "outputs": [
    {
     "data": {
      "image/png": "[encoded data removed]",
      "text/plain": [
       "<Figure size 432x288 with 1 Axes>"
      ]
     },
     "metadata": {
      "needs_background": "light"
     },
     "output_type": "display_data"
    }
   ],
   "source": [
    "# Determine the cross-validated accuracy for logistic and random forest models.\n",
    "logistic_regression_scores = cross_val_score(logistic_regression, covariates, classification_outcome, cv=10, scoring=accuracy)\n",
    "forest_classification_scores = cross_val_score(forest_classifier, covariates, classification_outcome, cv=10, scoring=accuracy)\n",
    "\n",
    "# Plot Results\n",
    "plt.axes().set_aspect('equal', 'box')\n",
    "plt.scatter(logistic_regression_scores, forest_classification_scores)\n",
    "plt.plot((0, 1), (0, 1), 'k-')\n",
    "\n",
    "plt.xlim(0, 1)\n",
    "plt.ylim(0, 1)\n",
    "plt.xlabel(\"Linear Classification Score\")\n",
    "plt.ylabel(\"Forest Classification Score\")\n",
    "\n",
    "# Show the plot.\n",
    "plt.show()\n"
   ]
  },
  {
   "cell_type": "markdown",
   "metadata": {},
   "source": [
    "### Exercise 5 \n",
    "\n",
    "In Exercise 3, we saw that predicting revenue was only moderately successful. It might be the case that predicting movies that generated precisely no revenue is difficult. In the next three exercises, we will exclude these movies, and rerun the analyses to determine if the fits improve. In this exercise, we will rerun the regression analysis for this subsetted dataset.\n",
    "\n",
    "#### Instructions \n",
    "\n",
    "- Define `positive_revenue_df` as the subset of movies in `df` with `revenue` greater than zero.\n",
    "- Code is provided below that creates new instances of model objects. Replace all instances of `df` with `positive_revenue_df`, and run the given code."
   ]
  },
  {
   "cell_type": "code",
   "execution_count": 7,
   "metadata": {},
   "outputs": [],
   "source": [
    "positive_revenue_df = df[df.revenue > 0]\n",
    "\n",
    "# Replace the dataframe in the following code, and run.\n",
    "\n",
    "regression_outcome = positive_revenue_df[regression_target]\n",
    "classification_outcome = positive_revenue_df[classification_target]\n",
    "covariates = positive_revenue_df[all_covariates]\n",
    "\n",
    "# Reinstantiate all regression models and classifiers.\n",
    "linear_regression = LinearRegression()\n",
    "logistic_regression = LogisticRegression()\n",
    "forest_regression = RandomForestRegressor(max_depth=4, random_state=0)\n",
    "forest_classifier = RandomForestClassifier(max_depth=4, random_state=0)\n",
    "linear_regression_scores = cross_val_score(linear_regression, covariates, regression_outcome, cv=10, scoring=correlation)\n",
    "forest_regression_scores = cross_val_score(forest_regression, covariates, regression_outcome, cv=10, scoring=correlation)\n",
    "logistic_regression_scores = cross_val_score(logistic_regression, covariates, classification_outcome, cv=10, scoring=accuracy)\n",
    "forest_classification_scores = cross_val_score(forest_classifier, covariates, classification_outcome, cv=10, scoring=accuracy)"
   ]
  },
  {
   "cell_type": "markdown",
   "metadata": {},
   "source": [
    "### Exercise 6\n",
    "\n",
    "In this exercise, we will compute the cross-validated performance for the linear and random forest regression models for positive revenue movies only.\n",
    "\n",
    "#### Instructions \n",
    "\n",
    "- Call `cross_val_score` using `linear_regression` and `forest regression` as models. Store the output as `linear_regression_scores` and `forest_regression_scores`, respectively.\n",
    "    - Set the parameters `cv=10` to use 10-fold cross-validation and `scoring=correlation` to use our `correlation` function defined in the previous exercise.\n",
    "- Plotting code has been provided to compare the performance of the two models. Use `plt.show()` to plot the correlation between actual and predicted revenue for each cross-validation fold using the linear and random forest regression models.\n",
    "- Which of the two models exhibits a better fit? Is this result different from what we observed when considering all movies?\n",
    "- Code is provided for you that prints the importance of each covariate in predicting revenue using the random forests classifier. \n",
    "    - Which variables are most important?"
   ]
  },
  {
   "cell_type": "code",
   "execution_count": 8,
   "metadata": {},
   "outputs": [
    {
     "data": {
      "image/png": "[encoded data removed]",
      "text/plain": [
       "<Figure size 432x288 with 1 Axes>"
      ]
     },
     "metadata": {
      "needs_background": "light"
     },
     "output_type": "display_data"
    },
    {
     "name": "stdout",
     "output_type": "stream",
     "text": [
      "[0.67822343 0.69424896 0.60228917 0.65425261 0.61789498 0.63852154\n",
      " 0.29614587 0.61455251 0.55434534 0.4299572 ]\n"
     ]
    },
    {
     "data": {
      "text/plain": [
       "[('Fantasy', 0.0),\n",
       " ('Music', 0.0),\n",
       " ('TV Movie', 0.0),\n",
       " ('Foreign', 0.0),\n",
       " ('Documentary', 5.024210288408997e-05),\n",
       " ('Romance', 6.604583330723221e-05),\n",
       " ('Western', 0.00015626864826347387),\n",
       " ('Thriller', 0.0001582172819023731),\n",
       " ('Mystery', 0.00018214788588276075),\n",
       " ('Horror', 0.00020010584158045158),\n",
       " ('War', 0.0002156879417358699),\n",
       " ('Action', 0.00039731194014744646),\n",
       " ('History', 0.0004223908705396498),\n",
       " ('Family', 0.00045869945111661517),\n",
       " ('Comedy', 0.000506826926522442),\n",
       " ('Animation', 0.0009318004228486638),\n",
       " ('Science Fiction', 0.0009980285384426234),\n",
       " ('Crime', 0.0010130985717443253),\n",
       " ('Drama', 0.0013281289930065173),\n",
       " ('Adventure', 0.0030803030401070778),\n",
       " ('vote_average', 0.006646714634639985),\n",
       " ('runtime', 0.016135965006071753),\n",
       " ('popularity', 0.08355296569387496),\n",
       " ('budget', 0.3075729973236636),\n",
       " ('vote_count', 0.5759260530517182)]"
      ]
     },
     "execution_count": 8,
     "metadata": {},
     "output_type": "execute_result"
    }
   ],
   "source": [
    "# Determine the cross-validated correlation for linear and random forest models.\n",
    "linear_regression_scores = cross_val_score(linear_regression, covariates, regression_outcome, cv=10, scoring=correlation)\n",
    "forest_regression_scores = cross_val_score(forest_regression, covariates, regression_outcome, cv=10, scoring=correlation)\n",
    "# Plot Results\n",
    "plt.axes().set_aspect('equal', 'box')\n",
    "plt.scatter(linear_regression_scores, forest_regression_scores)\n",
    "plt.plot((0, 1), (0, 1), 'k-')\n",
    "\n",
    "plt.xlim(0, 1)\n",
    "plt.ylim(0, 1)\n",
    "plt.xlabel(\"Linear Regression Score\")\n",
    "plt.ylabel(\"Forest Regression Score\")\n",
    "\n",
    "# Show the plot.\n",
    "plt.show()\n",
    "\n",
    "# Print the importance of each covariate in the random forest regression.\n",
    "forest_regression.fit(covariates, regression_outcome)\n",
    "print(linear_regression_scores)\n",
    "sorted(list(zip(all_covariates, forest_regression.feature_importances_)), key=lambda tup: tup[1])"
   ]
  },
  {
   "cell_type": "markdown",
   "metadata": {},
   "source": [
    "### Exercise 7\n",
    "\n",
    "In this exercise, we will compute cross-validated performance for the linear and random forest classification models for positive revenue movies only.\n",
    "\n",
    "#### Instructions \n",
    "\n",
    "- Call `cross_val_score` using `logistic_regression` and `forest classifer` as models. Store the output as `logistic_regression_scores` and `forest_classification_scores`, respectively.\n",
    "    - Set the parameters `cv=10` to use 10-fold cross-validation and `scoring=accuracy` to use our `accuracy` function defined in the previous exercise.\n",
    "- Plotting code has been provided to compare the performance of the two models. Use `plt.show()` to plot the correlation between actual and predicted revenue for each cross-validation fold using the linear and random forest regression models.\n",
    "- Which of the two models exhibits a better fit? Is this result different from what we observed when considering all movies?\n",
    "- Code is provided for you that prints the importance of each covariate in predicting profitabilitiy using the random forests classifier. \n",
    "    - Which variables are most important?"
   ]
  },
  {
   "cell_type": "code",
   "execution_count": 97,
   "metadata": {},
   "outputs": [
    {
     "data": {
      "image/png": "[encoded data removed]",
      "text/plain": [
       "<Figure size 432x288 with 1 Axes>"
      ]
     },
     "metadata": {
      "needs_background": "light"
     },
     "output_type": "display_data"
    },
    {
     "data": {
      "text/plain": [
       "[('TV Movie', 0.0),\n",
       " ('Horror', 0.001715202327676785),\n",
       " ('Animation', 0.0019388197444951466),\n",
       " ('Comedy', 0.0022574689899296065),\n",
       " ('Foreign', 0.0022801352325337114),\n",
       " ('Documentary', 0.002846458591904433),\n",
       " ('Romance', 0.0031608732977368944),\n",
       " ('Thriller', 0.0035569898966812397),\n",
       " ('Mystery', 0.004282452349394276),\n",
       " ('Music', 0.004308655018573079),\n",
       " ('Fantasy', 0.0051937079152913745),\n",
       " ('Western', 0.005480591973153852),\n",
       " ('Family', 0.0066609392542522055),\n",
       " ('Crime', 0.006772395781754328),\n",
       " ('History', 0.006793172805113654),\n",
       " ('Action', 0.0073412694021133835),\n",
       " ('Adventure', 0.007596959755592538),\n",
       " ('Science Fiction', 0.010816587516514861),\n",
       " ('War', 0.011275947022575308),\n",
       " ('Drama', 0.023093574562804687),\n",
       " ('runtime', 0.04154729351420867),\n",
       " ('budget', 0.08765680648089587),\n",
       " ('vote_average', 0.10261105225795153),\n",
       " ('popularity', 0.2811360280003983),\n",
       " ('vote_count', 0.36967661830845444)]"
      ]
     },
     "execution_count": 97,
     "metadata": {},
     "output_type": "execute_result"
    }
   ],
   "source": [
    "# Determine the cross-validated accuracy for logistic and random forest models.\n",
    "logistic_regression_scores = cross_val_score(logistic_regression, covariates, classification_outcome, cv=10, scoring=accuracy)\n",
    "forest_classification_scores = cross_val_score(forest_classifier, covariates, classification_outcome, cv=10, scoring=accuracy)\n",
    "\n",
    "# Plot Results\n",
    "plt.axes().set_aspect('equal', 'box')\n",
    "plt.scatter(logistic_regression_scores, forest_classification_scores)\n",
    "plt.plot((0, 1), (0, 1), 'k-')\n",
    "\n",
    "plt.xlim(0, 1)\n",
    "plt.ylim(0, 1)\n",
    "plt.xlabel(\"Linear Classification Score\")\n",
    "plt.ylabel(\"Forest Classification Score\")\n",
    "\n",
    "# Show the plot.\n",
    "plt.show()\n",
    "\n",
    "# Print the importance of each covariate in the random forest classification.\n",
    "forest_classifier.fit(covariates, classification_outcome)\n",
    "sorted(list(zip(all_covariates, forest_classifier.feature_importances_)), key=lambda tup: tup[1])"
   ]
  },
  {
   "cell_type": "code",
   "execution_count": null,
   "metadata": {},
   "outputs": [],
   "source": []
  }
 ],
 "metadata": {
  "kernelspec": {
   "display_name": "Python 3",
   "language": "python",
   "name": "python3"
  },
  "language_info": {
   "codemirror_mode": {
    "name": "ipython",
    "version": 3
   },
   "file_extension": ".py",
   "mimetype": "text/x-python",
   "name": "python",
   "nbconvert_exporter": "python",
   "pygments_lexer": "ipython3",
   "version": "3.7.5"
  },
  "toc": {
   "base_numbering": 1,
   "nav_menu": {},
   "number_sections": true,
   "sideBar": true,
   "skip_h1_title": false,
   "title_cell": "Table of Contents",
   "title_sidebar": "Contents",
   "toc_cell": false,
   "toc_position": {},
   "toc_section_display": true,
   "toc_window_display": false
  }
 },
 "nbformat": 4,
 "nbformat_minor": 2
}
