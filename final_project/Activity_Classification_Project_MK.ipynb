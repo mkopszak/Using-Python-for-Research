{
 "cells": [
  {
   "cell_type": "markdown",
   "metadata": {},
   "source": [
    "<b>I. INTRODUCTION</b>\n",
    "\n",
    "<b>Goal:</b> The goal of the project is to classify different physical activities basing on tri-axial smartphone accelerometer data. \n",
    "\n",
    "<b>Input data:</b> consists of two files: \n",
    "- <i>train_time_series.csv</i> with raw accelerometer data from  Beiwe research platform; format: <i>timestamp, UTC time, accuracy, x, y, z</i> where <i>x,y,z</i> correspond to measurements of acceleration along axes;\n",
    "- <i>train_labels.csv</i>  contains the activity labels such as: 1 = standing, 2 = walking, 3 = stairs down, 4 = stairs up; format: <i>timestamp, UTC time, label</i> \n",
    "\n",
    "<b>Unlabelled data (for predictions):</b> consist of two files:\n",
    "- <i>test_time_series.csv</i>\n",
    "- <i>test_labels.csv</i>\n",
    "which have same format as input data apart from the labels\n",
    "\n",
    "<b>Key steps</b>:\n",
    "- Data loading and exploration\n",
    "- Data cleaning and merging input tables\n",
    "- Data transformation\n",
    "- Construction of various models and hyperparameter selection\n",
    "- Model performance benchmarking\n",
    "- Choice of the best model\n",
    "- Final prediction of unalbelled dataset"
   ]
  },
  {
   "cell_type": "markdown",
   "metadata": {},
   "source": [
    "<b>II. METHODS</b>\n",
    "\n",
    "<b>1. Loading data: </b>In first step I load the following files to pandas DataFrame:\n",
    "- <i>df_labels</i> from <i>train_labels.csv</i> file\n",
    "- <i>df_time_series<i> from <i>train_time_series.csv</i> file.\n",
    "\n",
    "<b>2. Data exploration/cleaning</b>: I checked if there is any data to clean (not valid for data prossesing). I used pandas <i>isnull()</i> for every value in both dataframes. I checked also if all indices from labels exist in time_series data frame.There are no  missing values in the datasets.\n",
    "    \n",
    "<b>3. Data visualisation</b>: a) I plot data from all three axis for all data set. b) Then I plot data from activities examples to check the diffrence beetweenen them. Conclusions are listed below plots. \n",
    "    \n",
    "<b>4. Combining input data frames:</b> I merged input data containing time series and labels in order to use them for building the model. I added 30 columns to df_labels which represent accelerometr tri-axial values from df_time_series from previous 10 observations $x(t), y(t), z(t), \\dots x(t-9), y(t-9), z(t-9)$.\n",
    "    \n",
    "<b>5. Data transformation</b>: \n",
    "- a) to smoothen data from columns $x(t), y(t), z(t), \\dots x(t-9), y(t-9), z(t-9)$ I calculated average of these values along every axis for every labeled observation. Added additional columns `meanx, meany, meanz` for to be used in the model.\n",
    "- b) since the classes in the dataset are quite inbalanced (there majority of observations belongs to `walking (2)` activity) I reduced the number of such observations to avoid overfitting\n",
    "    \n",
    "<b>6. Dividing input data into test and training samples</b> - I split input data into training and test samples to to evaluate each models' performance\n",
    "    \n",
    "<b>7. Building simple KNN model</b> treated as reference method.\n",
    "    \n",
    "<b>8. Building basic random forest model</b> to achive better accuracy than KNN.\n",
    "    \n",
    "<b>9. Finding best hyperparameters</b> to imporove accuracy of random forest predictions.\n",
    "    \n",
    "<b>10. Building model on the whole input data and applying model to predictions of the unlabeled dataset (<i>test_time_series.csv</i>,<i>test_labels.csv</i>)</b>\n",
    "\n",
    "    \n"
   ]
  },
  {
   "cell_type": "markdown",
   "metadata": {},
   "source": [
    "<b>III. RESULT</b> presents in the code bellow"
   ]
  },
  {
   "cell_type": "code",
   "execution_count": 1,
   "metadata": {},
   "outputs": [
    {
     "name": "stderr",
     "output_type": "stream",
     "text": [
      "/usr/local/lib/python3.5/dist-packages/sklearn/ensemble/weight_boosting.py:29: DeprecationWarning: numpy.core.umath_tests is an internal NumPy module and should not be imported. It will be removed in a future NumPy release.\n",
      "  from numpy.core.umath_tests import inner1d\n"
     ]
    }
   ],
   "source": [
    "#Libraries import\n",
    "import pandas as pd\n",
    "import numpy as np\n",
    "\n",
    "from sklearn.model_selection import train_test_split\n",
    "from sklearn.neighbors import KNeighborsClassifier\n",
    "from sklearn.model_selection import cross_val_score\n",
    "from sklearn.linear_model import LogisticRegression\n",
    "from sklearn.ensemble import RandomForestClassifier\n",
    "from sklearn.utils import resample\n",
    "from sklearn.model_selection import validation_curve\n",
    "import time, datetime\n",
    "\n",
    "import matplotlib.pyplot as plt"
   ]
  },
  {
   "cell_type": "markdown",
   "metadata": {},
   "source": [
    "<b>1. Data loading</b>"
   ]
  },
  {
   "cell_type": "code",
   "execution_count": 2,
   "metadata": {},
   "outputs": [],
   "source": [
    "df_labels = pd.read_csv('https://courses.edx.org/assets/courseware/v1/d64e74647423e525bbeb13f2884e9cfa/asset-v1:HarvardX+PH526x+1T2020+type@asset+block/train_labels.csv', index_col = 0)\n",
    "df_time_series = pd.read_csv('https://courses.edx.org/assets/courseware/v1/b98039c3648763aae4f153a6ed32f38b/asset-v1:HarvardX+PH526x+1T2020+type@asset+block/train_time_series.csv', index_col = 0)"
   ]
  },
  {
   "cell_type": "markdown",
   "metadata": {},
   "source": [
    "<b>Data exploration</b>"
   ]
  },
  {
   "cell_type": "code",
   "execution_count": 3,
   "metadata": {},
   "outputs": [
    {
     "data": {
      "text/html": [
       "<div>\n",
       "<style scoped>\n",
       "    .dataframe tbody tr th:only-of-type {\n",
       "        vertical-align: middle;\n",
       "    }\n",
       "\n",
       "    .dataframe tbody tr th {\n",
       "        vertical-align: top;\n",
       "    }\n",
       "\n",
       "    .dataframe thead th {\n",
       "        text-align: right;\n",
       "    }\n",
       "</style>\n",
       "<table border=\"1\" class=\"dataframe\">\n",
       "  <thead>\n",
       "    <tr style=\"text-align: right;\">\n",
       "      <th></th>\n",
       "      <th>timestamp</th>\n",
       "      <th>UTC time</th>\n",
       "      <th>label</th>\n",
       "    </tr>\n",
       "  </thead>\n",
       "  <tbody>\n",
       "    <tr>\n",
       "      <th>20589</th>\n",
       "      <td>1565109931087</td>\n",
       "      <td>2019-08-06T16:45:31.087</td>\n",
       "      <td>1</td>\n",
       "    </tr>\n",
       "    <tr>\n",
       "      <th>20599</th>\n",
       "      <td>1565109932090</td>\n",
       "      <td>2019-08-06T16:45:32.090</td>\n",
       "      <td>1</td>\n",
       "    </tr>\n",
       "    <tr>\n",
       "      <th>20609</th>\n",
       "      <td>1565109933092</td>\n",
       "      <td>2019-08-06T16:45:33.092</td>\n",
       "      <td>1</td>\n",
       "    </tr>\n",
       "    <tr>\n",
       "      <th>20619</th>\n",
       "      <td>1565109934094</td>\n",
       "      <td>2019-08-06T16:45:34.094</td>\n",
       "      <td>1</td>\n",
       "    </tr>\n",
       "    <tr>\n",
       "      <th>20629</th>\n",
       "      <td>1565109935097</td>\n",
       "      <td>2019-08-06T16:45:35.097</td>\n",
       "      <td>1</td>\n",
       "    </tr>\n",
       "  </tbody>\n",
       "</table>\n",
       "</div>"
      ],
      "text/plain": [
       "           timestamp                 UTC time  label\n",
       "20589  1565109931087  2019-08-06T16:45:31.087      1\n",
       "20599  1565109932090  2019-08-06T16:45:32.090      1\n",
       "20609  1565109933092  2019-08-06T16:45:33.092      1\n",
       "20619  1565109934094  2019-08-06T16:45:34.094      1\n",
       "20629  1565109935097  2019-08-06T16:45:35.097      1"
      ]
     },
     "execution_count": 3,
     "metadata": {},
     "output_type": "execute_result"
    }
   ],
   "source": [
    "df_labels.head()"
   ]
  },
  {
   "cell_type": "code",
   "execution_count": 4,
   "metadata": {},
   "outputs": [
    {
     "data": {
      "text/html": [
       "<div>\n",
       "<style scoped>\n",
       "    .dataframe tbody tr th:only-of-type {\n",
       "        vertical-align: middle;\n",
       "    }\n",
       "\n",
       "    .dataframe tbody tr th {\n",
       "        vertical-align: top;\n",
       "    }\n",
       "\n",
       "    .dataframe thead th {\n",
       "        text-align: right;\n",
       "    }\n",
       "</style>\n",
       "<table border=\"1\" class=\"dataframe\">\n",
       "  <thead>\n",
       "    <tr style=\"text-align: right;\">\n",
       "      <th></th>\n",
       "      <th>timestamp</th>\n",
       "      <th>UTC time</th>\n",
       "      <th>accuracy</th>\n",
       "      <th>x</th>\n",
       "      <th>y</th>\n",
       "      <th>z</th>\n",
       "    </tr>\n",
       "  </thead>\n",
       "  <tbody>\n",
       "    <tr>\n",
       "      <th>20586</th>\n",
       "      <td>1565109930787</td>\n",
       "      <td>2019-08-06T16:45:30.787</td>\n",
       "      <td>unknown</td>\n",
       "      <td>-0.006485</td>\n",
       "      <td>-0.934860</td>\n",
       "      <td>-0.069046</td>\n",
       "    </tr>\n",
       "    <tr>\n",
       "      <th>20587</th>\n",
       "      <td>1565109930887</td>\n",
       "      <td>2019-08-06T16:45:30.887</td>\n",
       "      <td>unknown</td>\n",
       "      <td>-0.066467</td>\n",
       "      <td>-1.015442</td>\n",
       "      <td>0.089554</td>\n",
       "    </tr>\n",
       "    <tr>\n",
       "      <th>20588</th>\n",
       "      <td>1565109930987</td>\n",
       "      <td>2019-08-06T16:45:30.987</td>\n",
       "      <td>unknown</td>\n",
       "      <td>-0.043488</td>\n",
       "      <td>-1.021255</td>\n",
       "      <td>0.178467</td>\n",
       "    </tr>\n",
       "    <tr>\n",
       "      <th>20589</th>\n",
       "      <td>1565109931087</td>\n",
       "      <td>2019-08-06T16:45:31.087</td>\n",
       "      <td>unknown</td>\n",
       "      <td>-0.053802</td>\n",
       "      <td>-0.987701</td>\n",
       "      <td>0.068985</td>\n",
       "    </tr>\n",
       "    <tr>\n",
       "      <th>20590</th>\n",
       "      <td>1565109931188</td>\n",
       "      <td>2019-08-06T16:45:31.188</td>\n",
       "      <td>unknown</td>\n",
       "      <td>-0.054031</td>\n",
       "      <td>-1.003616</td>\n",
       "      <td>0.126450</td>\n",
       "    </tr>\n",
       "  </tbody>\n",
       "</table>\n",
       "</div>"
      ],
      "text/plain": [
       "           timestamp                 UTC time accuracy         x         y  \\\n",
       "20586  1565109930787  2019-08-06T16:45:30.787  unknown -0.006485 -0.934860   \n",
       "20587  1565109930887  2019-08-06T16:45:30.887  unknown -0.066467 -1.015442   \n",
       "20588  1565109930987  2019-08-06T16:45:30.987  unknown -0.043488 -1.021255   \n",
       "20589  1565109931087  2019-08-06T16:45:31.087  unknown -0.053802 -0.987701   \n",
       "20590  1565109931188  2019-08-06T16:45:31.188  unknown -0.054031 -1.003616   \n",
       "\n",
       "              z  \n",
       "20586 -0.069046  \n",
       "20587  0.089554  \n",
       "20588  0.178467  \n",
       "20589  0.068985  \n",
       "20590  0.126450  "
      ]
     },
     "execution_count": 4,
     "metadata": {},
     "output_type": "execute_result"
    }
   ],
   "source": [
    "df_time_series.head()"
   ]
  },
  {
   "cell_type": "markdown",
   "metadata": {},
   "source": [
    "<b>2. Data exploration/cleaning</b>\n"
   ]
  },
  {
   "cell_type": "code",
   "execution_count": 5,
   "metadata": {},
   "outputs": [
    {
     "name": "stdout",
     "output_type": "stream",
     "text": [
      "Any NaN values in df_labels:  False\n",
      "Any NaN values in df_time_series:  False\n",
      "All indices from df_labels are in df_time_series:  True\n"
     ]
    }
   ],
   "source": [
    "print('Any NaN values in df_labels: ', pd.isnull(df_labels).values.any())\n",
    "print('Any NaN values in df_time_series: ', pd.isnull(df_time_series).values.any())\n",
    "\n",
    "# Checking if all indexes from labels have respective timestamps\n",
    "\n",
    "print('All indices from df_labels are in df_time_series: ', df_labels.index.isin(df_time_series.index).all())"
   ]
  },
  {
   "cell_type": "markdown",
   "metadata": {},
   "source": [
    "<b>3a. Data visualisation</b>"
   ]
  },
  {
   "cell_type": "code",
   "execution_count": 6,
   "metadata": {},
   "outputs": [
    {
     "data": {
      "image/png": "[encoded data removed]",
      "text/plain": [
       "<Figure size 432x288 with 3 Axes>"
      ]
     },
     "metadata": {
      "needs_background": "light"
     },
     "output_type": "display_data"
    }
   ],
   "source": [
    "fig, axs = plt.subplots(3, 1, sharex=True)\n",
    "axs[0].plot(df_time_series.x, color='blue')\n",
    "axs[0].set_title('x-ax')\n",
    "axs[1].plot(df_time_series.y, color='red')\n",
    "axs[1].set_title('y-ax')\n",
    "axs[1].set_ylabel(\"Acceleration\")\n",
    "axs[2].plot(df_time_series.z, color='green')\n",
    "axs[2].set_title('z-ax')\n",
    "plt.show()"
   ]
  },
  {
   "cell_type": "markdown",
   "metadata": {},
   "source": [
    "<b>Conclusion</b>: data along all three axes seems to have some similarities. This plot also shows that some activities have narrower acceleration than other. Lets explore data in examples of activities."
   ]
  },
  {
   "cell_type": "markdown",
   "metadata": {},
   "source": [
    "<b>3b. Data exploration and visualisation for diffrent activities</b>"
   ]
  },
  {
   "cell_type": "code",
   "execution_count": 7,
   "metadata": {},
   "outputs": [
    {
     "name": "stdout",
     "output_type": "stream",
     "text": [
      "           timestamp                 UTC time  label\n",
      "20589  1565109931087  2019-08-06T16:45:31.087      1\n",
      "20599  1565109932090  2019-08-06T16:45:32.090      1\n",
      "20609  1565109933092  2019-08-06T16:45:33.092      1\n",
      "20619  1565109934094  2019-08-06T16:45:34.094      1\n",
      "20629  1565109935097  2019-08-06T16:45:35.097      1\n",
      "           timestamp                 UTC time  label\n",
      "21559  1565110028310  2019-08-06T16:47:08.310      4\n",
      "21569  1565110029312  2019-08-06T16:47:09.312      4\n",
      "21579  1565110030314  2019-08-06T16:47:10.314      4\n",
      "21589  1565110031316  2019-08-06T16:47:11.316      4\n",
      "21599  1565110032319  2019-08-06T16:47:12.319      4\n"
     ]
    }
   ],
   "source": [
    "# Subseting indices corresponding to standing and stair-up activities\n",
    "print(df_labels[df_labels.label == 1].head())\n",
    "print(df_labels[df_labels.label == 4].head())"
   ]
  },
  {
   "cell_type": "code",
   "execution_count": 8,
   "metadata": {
    "scrolled": true
   },
   "outputs": [
    {
     "data": {
      "image/png": "[encoded data removed]",
      "text/plain": [
       "<Figure size 432x288 with 3 Axes>"
      ]
     },
     "metadata": {
      "needs_background": "light"
     },
     "output_type": "display_data"
    },
    {
     "data": {
      "image/png": "[encoded data removed]",
      "text/plain": [
       "<Figure size 432x288 with 3 Axes>"
      ]
     },
     "metadata": {
      "needs_background": "light"
     },
     "output_type": "display_data"
    }
   ],
   "source": [
    "standing = list(range(20589,20630))\n",
    "fig, axs = plt.subplots(3, 1, sharex=True)\n",
    "axs[0].plot(list(df_time_series.loc[standing, 'x']), color='blue')\n",
    "axs[0].set_title('x-ax')\n",
    "axs[1].plot(list(df_time_series.loc[standing, 'y']), color='red')\n",
    "axs[1].set_title('y-ax')\n",
    "axs[1].set_ylabel(\"Acceleration standing\")\n",
    "axs[2].plot(list(df_time_series.loc[standing, 'z']), color='green')\n",
    "axs[2].set_title('z-ax')\n",
    "plt.show()\n",
    "\n",
    "stair_up = list(range(21559,21599))\n",
    "fig, axs = plt.subplots(3, 1, sharex=True)\n",
    "axs[0].plot(list(df_time_series.loc[stair_up, 'x']), color='blue')\n",
    "axs[0].set_title('x-ax')\n",
    "axs[1].plot(list(df_time_series.loc[stair_up, 'y']), color='red')\n",
    "axs[1].set_title('y-ax')\n",
    "axs[1].set_ylabel(\"Acceleration stair-up\")\n",
    "axs[2].plot(list(df_time_series.loc[stair_up, 'z']), color='green')\n",
    "axs[2].set_title('z-ax')\n",
    "plt.show()"
   ]
  },
  {
   "cell_type": "markdown",
   "metadata": {},
   "source": [
    "<b>Conclusion</b>: the diffrence beetween those two activities is significant mostly in z-ax"
   ]
  },
  {
   "cell_type": "markdown",
   "metadata": {},
   "source": [
    "<b>4. Combining input data frames</b>"
   ]
  },
  {
   "cell_type": "code",
   "execution_count": 9,
   "metadata": {},
   "outputs": [],
   "source": [
    "df_alt = df_labels.copy()\n",
    "\n",
    "label_range = list(range(-10,0))\n",
    "\n",
    "# Adding rows with np.nan values to handle index errors. \n",
    "# Iteration starts from -10, so I have to add few rows before first indes index in df_time_series \n",
    "df_time_series.loc[20579] = [np.nan, np.nan, np.nan, np.nan, np.nan, np.nan]\n",
    "df_time_series.loc[20580] = [np.nan, np.nan, np.nan, np.nan, np.nan, np.nan]\n",
    "df_time_series.loc[20581] = [np.nan, np.nan, np.nan, np.nan, np.nan, np.nan]\n",
    "df_time_series.loc[20582] = [np.nan, np.nan, np.nan, np.nan, np.nan, np.nan]\n",
    "df_time_series.loc[20583] = [np.nan, np.nan, np.nan, np.nan, np.nan, np.nan]\n",
    "df_time_series.loc[20584] = [np.nan, np.nan, np.nan, np.nan, np.nan, np.nan]\n",
    "df_time_series.loc[20585] = [np.nan, np.nan, np.nan, np.nan, np.nan, np.nan]\n",
    "\n",
    "# Adding 30 columns to df_labels which represent accelerometr tri-axial values from df_time_series based on 10 earlier observations\n",
    "df_label_indices = list(df_labels.index)\n",
    "for i in df_label_indices:\n",
    "    for j in label_range:\n",
    "        df_alt.loc[i, 'x' + str(j)[1:]] = df_time_series.loc[i + j, 'x']\n",
    "        df_alt.loc[i, 'y' + str(j)[1:]] = df_time_series.loc[i + j, 'y']\n",
    "        df_alt.loc[i, 'z' + str(j)[1:]] = df_time_series.loc[i + j, 'z']"
   ]
  },
  {
   "cell_type": "code",
   "execution_count": 10,
   "metadata": {},
   "outputs": [
    {
     "data": {
      "text/html": [
       "<div>\n",
       "<style scoped>\n",
       "    .dataframe tbody tr th:only-of-type {\n",
       "        vertical-align: middle;\n",
       "    }\n",
       "\n",
       "    .dataframe tbody tr th {\n",
       "        vertical-align: top;\n",
       "    }\n",
       "\n",
       "    .dataframe thead th {\n",
       "        text-align: right;\n",
       "    }\n",
       "</style>\n",
       "<table border=\"1\" class=\"dataframe\">\n",
       "  <thead>\n",
       "    <tr style=\"text-align: right;\">\n",
       "      <th></th>\n",
       "      <th>timestamp</th>\n",
       "      <th>UTC time</th>\n",
       "      <th>label</th>\n",
       "      <th>x10</th>\n",
       "      <th>y10</th>\n",
       "      <th>z10</th>\n",
       "      <th>x9</th>\n",
       "      <th>y9</th>\n",
       "      <th>z9</th>\n",
       "      <th>x8</th>\n",
       "      <th>...</th>\n",
       "      <th>z4</th>\n",
       "      <th>x3</th>\n",
       "      <th>y3</th>\n",
       "      <th>z3</th>\n",
       "      <th>x2</th>\n",
       "      <th>y2</th>\n",
       "      <th>z2</th>\n",
       "      <th>x1</th>\n",
       "      <th>y1</th>\n",
       "      <th>z1</th>\n",
       "    </tr>\n",
       "  </thead>\n",
       "  <tbody>\n",
       "    <tr>\n",
       "      <th>20589</th>\n",
       "      <td>1565109931087</td>\n",
       "      <td>2019-08-06T16:45:31.087</td>\n",
       "      <td>1</td>\n",
       "      <td>NaN</td>\n",
       "      <td>NaN</td>\n",
       "      <td>NaN</td>\n",
       "      <td>NaN</td>\n",
       "      <td>NaN</td>\n",
       "      <td>NaN</td>\n",
       "      <td>NaN</td>\n",
       "      <td>...</td>\n",
       "      <td>NaN</td>\n",
       "      <td>-0.006485</td>\n",
       "      <td>-0.934860</td>\n",
       "      <td>-0.069046</td>\n",
       "      <td>-0.066467</td>\n",
       "      <td>-1.015442</td>\n",
       "      <td>0.089554</td>\n",
       "      <td>-0.043488</td>\n",
       "      <td>-1.021255</td>\n",
       "      <td>0.178467</td>\n",
       "    </tr>\n",
       "    <tr>\n",
       "      <th>20599</th>\n",
       "      <td>1565109932090</td>\n",
       "      <td>2019-08-06T16:45:32.090</td>\n",
       "      <td>1</td>\n",
       "      <td>-0.053802</td>\n",
       "      <td>-0.987701</td>\n",
       "      <td>0.068985</td>\n",
       "      <td>-0.054031</td>\n",
       "      <td>-1.003616</td>\n",
       "      <td>0.126450</td>\n",
       "      <td>-0.010880</td>\n",
       "      <td>...</td>\n",
       "      <td>0.223221</td>\n",
       "      <td>-0.031784</td>\n",
       "      <td>-0.893982</td>\n",
       "      <td>0.264236</td>\n",
       "      <td>-0.097427</td>\n",
       "      <td>-0.902725</td>\n",
       "      <td>0.137680</td>\n",
       "      <td>-0.094864</td>\n",
       "      <td>-1.197876</td>\n",
       "      <td>0.128494</td>\n",
       "    </tr>\n",
       "    <tr>\n",
       "      <th>20609</th>\n",
       "      <td>1565109933092</td>\n",
       "      <td>2019-08-06T16:45:33.092</td>\n",
       "      <td>1</td>\n",
       "      <td>0.013718</td>\n",
       "      <td>-0.852371</td>\n",
       "      <td>-0.000870</td>\n",
       "      <td>0.067947</td>\n",
       "      <td>-0.988525</td>\n",
       "      <td>0.034973</td>\n",
       "      <td>-0.049255</td>\n",
       "      <td>...</td>\n",
       "      <td>-0.072174</td>\n",
       "      <td>0.055618</td>\n",
       "      <td>-0.994019</td>\n",
       "      <td>-0.078293</td>\n",
       "      <td>0.102280</td>\n",
       "      <td>-0.994797</td>\n",
       "      <td>-0.038040</td>\n",
       "      <td>0.104599</td>\n",
       "      <td>-1.007675</td>\n",
       "      <td>-0.040253</td>\n",
       "    </tr>\n",
       "    <tr>\n",
       "      <th>20619</th>\n",
       "      <td>1565109934094</td>\n",
       "      <td>2019-08-06T16:45:34.094</td>\n",
       "      <td>1</td>\n",
       "      <td>0.145584</td>\n",
       "      <td>-1.007843</td>\n",
       "      <td>-0.036819</td>\n",
       "      <td>0.148285</td>\n",
       "      <td>-1.010757</td>\n",
       "      <td>-0.003036</td>\n",
       "      <td>0.119675</td>\n",
       "      <td>...</td>\n",
       "      <td>0.193161</td>\n",
       "      <td>-0.116592</td>\n",
       "      <td>-0.932434</td>\n",
       "      <td>0.182114</td>\n",
       "      <td>-0.035355</td>\n",
       "      <td>-0.860016</td>\n",
       "      <td>0.234421</td>\n",
       "      <td>-0.043869</td>\n",
       "      <td>-0.867630</td>\n",
       "      <td>0.164062</td>\n",
       "    </tr>\n",
       "    <tr>\n",
       "      <th>20629</th>\n",
       "      <td>1565109935097</td>\n",
       "      <td>2019-08-06T16:45:35.097</td>\n",
       "      <td>1</td>\n",
       "      <td>-0.099380</td>\n",
       "      <td>-1.209686</td>\n",
       "      <td>0.304489</td>\n",
       "      <td>0.122498</td>\n",
       "      <td>-0.885483</td>\n",
       "      <td>0.123444</td>\n",
       "      <td>0.178406</td>\n",
       "      <td>...</td>\n",
       "      <td>0.034439</td>\n",
       "      <td>0.024414</td>\n",
       "      <td>-1.008957</td>\n",
       "      <td>0.034195</td>\n",
       "      <td>0.050781</td>\n",
       "      <td>-0.987045</td>\n",
       "      <td>-0.035294</td>\n",
       "      <td>0.011429</td>\n",
       "      <td>-1.012543</td>\n",
       "      <td>-0.040665</td>\n",
       "    </tr>\n",
       "  </tbody>\n",
       "</table>\n",
       "<p>5 rows × 33 columns</p>\n",
       "</div>"
      ],
      "text/plain": [
       "           timestamp                 UTC time  label       x10       y10  \\\n",
       "20589  1565109931087  2019-08-06T16:45:31.087      1       NaN       NaN   \n",
       "20599  1565109932090  2019-08-06T16:45:32.090      1 -0.053802 -0.987701   \n",
       "20609  1565109933092  2019-08-06T16:45:33.092      1  0.013718 -0.852371   \n",
       "20619  1565109934094  2019-08-06T16:45:34.094      1  0.145584 -1.007843   \n",
       "20629  1565109935097  2019-08-06T16:45:35.097      1 -0.099380 -1.209686   \n",
       "\n",
       "            z10        x9        y9        z9        x8    ...           z4  \\\n",
       "20589       NaN       NaN       NaN       NaN       NaN    ...          NaN   \n",
       "20599  0.068985 -0.054031 -1.003616  0.126450 -0.010880    ...     0.223221   \n",
       "20609 -0.000870  0.067947 -0.988525  0.034973 -0.049255    ...    -0.072174   \n",
       "20619 -0.036819  0.148285 -1.010757 -0.003036  0.119675    ...     0.193161   \n",
       "20629  0.304489  0.122498 -0.885483  0.123444  0.178406    ...     0.034439   \n",
       "\n",
       "             x3        y3        z3        x2        y2        z2        x1  \\\n",
       "20589 -0.006485 -0.934860 -0.069046 -0.066467 -1.015442  0.089554 -0.043488   \n",
       "20599 -0.031784 -0.893982  0.264236 -0.097427 -0.902725  0.137680 -0.094864   \n",
       "20609  0.055618 -0.994019 -0.078293  0.102280 -0.994797 -0.038040  0.104599   \n",
       "20619 -0.116592 -0.932434  0.182114 -0.035355 -0.860016  0.234421 -0.043869   \n",
       "20629  0.024414 -1.008957  0.034195  0.050781 -0.987045 -0.035294  0.011429   \n",
       "\n",
       "             y1        z1  \n",
       "20589 -1.021255  0.178467  \n",
       "20599 -1.197876  0.128494  \n",
       "20609 -1.007675 -0.040253  \n",
       "20619 -0.867630  0.164062  \n",
       "20629 -1.012543 -0.040665  \n",
       "\n",
       "[5 rows x 33 columns]"
      ]
     },
     "execution_count": 10,
     "metadata": {},
     "output_type": "execute_result"
    }
   ],
   "source": [
    "df_alt.head()"
   ]
  },
  {
   "cell_type": "markdown",
   "metadata": {},
   "source": [
    "<b>5a. Data transformation</b> - added mean"
   ]
  },
  {
   "cell_type": "code",
   "execution_count": 11,
   "metadata": {},
   "outputs": [],
   "source": [
    "# There is data missing (np.nan) in the first row of df_lab, dropping it\n",
    "df_alt.drop(20589, inplace = True)\n",
    "\n",
    "# All further calculation will be performedn df_alt which are based on merged data from labels and time series\n",
    "\n",
    "# Calculate mean, standard deviation and length of movement vectors. \n",
    "\n",
    "df_alt['meanx'] = df_alt[['x1', 'x2', 'x3', 'x4', 'x5', 'x6', 'x7', 'x8', 'x9', 'x10']].mean(axis=1)\n",
    "df_alt['meany'] = df_alt[['y1', 'y2', 'y3', 'y4', 'y5', 'y6', 'y7', 'y8', 'y9', 'y10']].mean(axis=1)\n",
    "df_alt['meanz'] = df_alt[['z1', 'z2', 'z3', 'z4', 'z5', 'z6', 'z7', 'z8', 'z9', 'z10']].mean(axis=1)\n",
    "\n",
    "df_alt['len1'] = (df_alt.x1 ** 2 + df_alt.y1 ** 2 + df_alt.z1 ** 2) ** (1/2)\n",
    "df_alt['len2'] = (df_alt.x2 ** 2 + df_alt.y2 ** 2 + df_alt.z2 ** 2) ** (1/2)\n",
    "df_alt['len3'] = (df_alt.x3 ** 2 + df_alt.y3 ** 2 + df_alt.z3 ** 2) ** (1/2)\n",
    "df_alt['len4'] = (df_alt.x4 ** 2 + df_alt.y4 ** 2 + df_alt.z4 ** 2) ** (1/2)\n",
    "df_alt['len5'] = (df_alt.x5 ** 2 + df_alt.y5 ** 2 + df_alt.z5 ** 2) ** (1/2)\n",
    "df_alt['len6'] = (df_alt.x6 ** 2 + df_alt.y6 ** 2 + df_alt.z6 ** 2) ** (1/2)\n",
    "df_alt['len7'] = (df_alt.x7 ** 2 + df_alt.y7 ** 2 + df_alt.z7 ** 2) ** (1/2)\n",
    "df_alt['len8'] = (df_alt.x8 ** 2 + df_alt.y8 ** 2 + df_alt.z8 ** 2) ** (1/2)\n",
    "df_alt['len9'] = (df_alt.x9 ** 2 + df_alt.y9 ** 2 + df_alt.z9 ** 2) ** (1/2)\n",
    "df_alt['len10'] = (df_alt.x10 ** 2 + df_alt.y10 ** 2 + df_alt.z10 ** 2) ** (1/2)\n",
    "\n",
    "df_alt['x_std'] = df_alt[['x1', 'x2', 'x3', 'x4', 'x5', 'x6', 'x7', 'x8', 'x9', 'x10']].std(axis=1)\n",
    "df_alt['y_std'] = df_alt[['y1', 'y2', 'y3', 'y4', 'y5', 'y6', 'y7', 'y8', 'y9', 'y10']].std(axis=1)\n",
    "df_alt['z_std'] = df_alt[['z1', 'z2', 'z3', 'z4', 'z5', 'z6', 'z7', 'z8', 'z9', 'z10']].std(axis=1)"
   ]
  },
  {
   "cell_type": "markdown",
   "metadata": {},
   "source": [
    "<b>5b. Data transformation</b> - reduce inbalace in data"
   ]
  },
  {
   "cell_type": "code",
   "execution_count": 12,
   "metadata": {},
   "outputs": [
    {
     "data": {
      "text/plain": [
       "2    213\n",
       "3     88\n",
       "4     47\n",
       "1     26\n",
       "Name: label, dtype: int64"
      ]
     },
     "execution_count": 12,
     "metadata": {},
     "output_type": "execute_result"
    }
   ],
   "source": [
    "# Data is inbalanced (too many walking(2) activity in data)\n",
    "df_alt.label.value_counts()"
   ]
  },
  {
   "cell_type": "code",
   "execution_count": 13,
   "metadata": {},
   "outputs": [],
   "source": [
    "# Reduce walking activity\n",
    " \n",
    "# Activities diffrent than walking\n",
    "df_maj = df_alt[df_alt.label!=2]\n",
    "\n",
    "# Walking activities\n",
    "df_min = df_alt[df_alt.label==2]\n",
    " \n",
    "# Resampling data\n",
    "df_min_upsampled = resample(df_min, replace=True, n_samples=100, random_state=0)\n",
    "df_upsampled = pd.concat([df_maj, df_min_upsampled])\n",
    "\n",
    "df_alt = df_upsampled.copy()"
   ]
  },
  {
   "cell_type": "code",
   "execution_count": 14,
   "metadata": {},
   "outputs": [
    {
     "data": {
      "text/plain": [
       "2    100\n",
       "3     88\n",
       "4     47\n",
       "1     26\n",
       "Name: label, dtype: int64"
      ]
     },
     "execution_count": 14,
     "metadata": {},
     "output_type": "execute_result"
    }
   ],
   "source": [
    "# Dataset is more balanced\n",
    "df_alt.label.value_counts()"
   ]
  },
  {
   "cell_type": "markdown",
   "metadata": {},
   "source": [
    "<b>6. Dividing input data into test and training samples</b>"
   ]
  },
  {
   "cell_type": "code",
   "execution_count": 15,
   "metadata": {},
   "outputs": [],
   "source": [
    "# Splitted data\n",
    "X_train, X_test, y_train, y_test = train_test_split(df_alt[df_alt.columns[3:]], df_alt['label'], test_size=0.25, random_state=0)\n",
    "\n",
    "# Covariates and classification outcome\n",
    "classification_outcome = df_alt['label']\n",
    "covariates = df_alt[df_alt.columns[3:]]"
   ]
  },
  {
   "cell_type": "markdown",
   "metadata": {},
   "source": [
    "<b>7. Building simple KNN model and selecting hyperparameter for KNN"
   ]
  },
  {
   "cell_type": "code",
   "execution_count": 16,
   "metadata": {},
   "outputs": [],
   "source": [
    "# Function to test accuracy of predictions compared to outcomes\n",
    "def accuracy(pred, out):\n",
    "    vl1=0\n",
    "    for i in range(len(pred)):\n",
    "        if pred[i] == out[i]:\n",
    "            vl1+=1\n",
    "    return (vl1/len(pred)*100)"
   ]
  },
  {
   "cell_type": "code",
   "execution_count": 17,
   "metadata": {},
   "outputs": [],
   "source": [
    "# Function to built KNN and return accuracy of predictions\n",
    "def knn_labeling(lab, n_neigh):\n",
    "    num_data = lab[lab.columns[3:]]\n",
    "    knn = KNeighborsClassifier(n_neighbors = n_neigh)\n",
    "    knn.fit(num_data, lab['label'])\n",
    "    predictions = knn.predict(num_data)\n",
    "    return accuracy(list(predictions), list(lab[\"label\"]))"
   ]
  },
  {
   "cell_type": "code",
   "execution_count": 18,
   "metadata": {},
   "outputs": [
    {
     "data": {
      "text/plain": [
       "[77.39463601532567,\n",
       " 77.01149425287356,\n",
       " 71.26436781609196,\n",
       " 67.81609195402298,\n",
       " 67.04980842911877,\n",
       " 65.13409961685824,\n",
       " 64.75095785440614,\n",
       " 64.75095785440614,\n",
       " 62.83524904214559,\n",
       " 63.2183908045977,\n",
       " 60.15325670498084,\n",
       " 56.70498084291188,\n",
       " 54.02298850574713]"
      ]
     },
     "execution_count": 18,
     "metadata": {},
     "output_type": "execute_result"
    }
   ],
   "source": [
    "# Hyperparameter selection for KNN in range of 2 to 15 neighbors\n",
    "accuracy_lab1= [knn_labeling(df_alt, x) for x in range(2,15)]\n",
    "accuracy_lab1"
   ]
  },
  {
   "cell_type": "code",
   "execution_count": 19,
   "metadata": {},
   "outputs": [
    {
     "name": "stdout",
     "output_type": "stream",
     "text": [
      "Cross-validation accuracy for the KNN method: 0.56 (+/- 0.25)\n",
      "The test data accuracy for the KNN method:  0.5\n"
     ]
    }
   ],
   "source": [
    "# Cross-validation for KNN (number of neighbours = 2)\n",
    "knn = KNeighborsClassifier(n_neighbors = 2)\n",
    "knn_scores = cross_val_score(knn, covariates, classification_outcome,  cv=20)\n",
    "print(\"Cross-validation accuracy for the KNN method: %0.2f (+/- %0.2f)\" % (knn_scores.mean(), knn_scores.std() * 2))\n",
    "\n",
    "# Fitting the model\n",
    "knn.fit(X_train, y_train)\n",
    "predictions = knn.predict(X_test)\n",
    "\n",
    "# Accuracy of test data for the best hyperparameter selection \n",
    "print(\"The test data accuracy for the KNN method: \", accuracy(list(predictions), list(y_test))/100)"
   ]
  },
  {
   "cell_type": "markdown",
   "metadata": {},
   "source": [
    "<b>Conclusion</b>: KNN was able to predict correct values for the test data with accuracy 50%. The mean score from cross-validation is around 56%. It's good idea to try another model."
   ]
  },
  {
   "cell_type": "markdown",
   "metadata": {},
   "source": [
    "<b>8. Building random forest model</b>"
   ]
  },
  {
   "cell_type": "code",
   "execution_count": 20,
   "metadata": {},
   "outputs": [],
   "source": [
    "# Build random forest model on splited input data (train, test)\n",
    "# Using some specific hyperparameters which will be fine-tuned in next steps\n",
    "\n",
    "forest_classifier = RandomForestClassifier(max_depth=4, random_state=0)"
   ]
  },
  {
   "cell_type": "code",
   "execution_count": 21,
   "metadata": {},
   "outputs": [
    {
     "name": "stdout",
     "output_type": "stream",
     "text": [
      "Cross-validation accuracy for the random forest model: 0.60 (+/- 0.18)\n"
     ]
    }
   ],
   "source": [
    "forest_regression_scores = cross_val_score(forest_classifier, covariates, classification_outcome,  cv=20)\n",
    "print(\"Cross-validation accuracy for the random forest model: %0.2f (+/- %0.2f)\" % (forest_regression_scores.mean(), forest_regression_scores.std() * 2))"
   ]
  },
  {
   "cell_type": "code",
   "execution_count": 22,
   "metadata": {},
   "outputs": [
    {
     "name": "stdout",
     "output_type": "stream",
     "text": [
      "The test data accuracy for the random forest model:  0.5757575757575758\n"
     ]
    }
   ],
   "source": [
    "# Acuracy predictions for random forest\n",
    "pred = list(forest_classifier.fit(X_train, y_train).predict(X_test))\n",
    "print(\"The test data accuracy for the random forest model: \", accuracy(pred, list(y_test))/100)"
   ]
  },
  {
   "cell_type": "markdown",
   "metadata": {},
   "source": [
    "<b>Conclusion</b>: Random forest has better accuracy than KNN but we can try to find better hyperparameter"
   ]
  },
  {
   "cell_type": "markdown",
   "metadata": {},
   "source": [
    "<b>9. Finding best hyperparameters</b> to imporove accuracy of random forest predictions"
   ]
  },
  {
   "cell_type": "code",
   "execution_count": 23,
   "metadata": {},
   "outputs": [
    {
     "data": {
      "image/png": "[encoded data removed]",
      "text/plain": [
       "<Figure size 432x288 with 1 Axes>"
      ]
     },
     "metadata": {
      "needs_background": "light"
     },
     "output_type": "display_data"
    }
   ],
   "source": [
    "# Finding best value of n_estimators hyperparameter\n",
    "\n",
    "np.random.seed(0)\n",
    "num_est = [7,8,9, 10,11, 12, 13, 14,15, 16, 17, 18, 19, 20]\n",
    "train_scoreNum, test_scoreNum = validation_curve(\n",
    "                                RandomForestClassifier(),\n",
    "                                X = X_train, y = y_train, \n",
    "                                param_name = 'n_estimators', \n",
    "                                param_range = num_est, cv=20)\n",
    "\n",
    "\n",
    "plt.plot(num_est, list(np.mean(test_scoreNum, axis=1)))\n",
    "plt.plot(num_est, list(np.mean(train_scoreNum, axis=1)))\n",
    "\n",
    "\n",
    "plt.show()"
   ]
  },
  {
   "cell_type": "markdown",
   "metadata": {},
   "source": [
    "The highest accuracy is obtained for n_estimators = 12 or 18"
   ]
  },
  {
   "cell_type": "code",
   "execution_count": 24,
   "metadata": {},
   "outputs": [
    {
     "data": {
      "image/png": "[encoded data removed]",
      "text/plain": [
       "<Figure size 432x288 with 1 Axes>"
      ]
     },
     "metadata": {
      "needs_background": "light"
     },
     "output_type": "display_data"
    }
   ],
   "source": [
    "# Finding the best value of max_depth hyperparameter\n",
    "np.random.seed(0)\n",
    "max_depth = [2, 3, 4, 5, 6, 7, 8, 9, 10, 11, 12, 13, 14]\n",
    "train_scoreNum1, test_scoreNum1 = validation_curve(\n",
    "                                RandomForestClassifier(),\n",
    "                                X = X_train, y = y_train, \n",
    "                                param_name = 'max_depth', \n",
    "                                param_range = max_depth, cv = 20)\n",
    "\n",
    "plt.plot(max_depth, list(np.mean(test_scoreNum1, axis=1)))\n",
    "plt.plot(max_depth, list(np.mean(train_scoreNum1, axis=1)))\n",
    "\n",
    "plt.show()"
   ]
  },
  {
   "cell_type": "markdown",
   "metadata": {},
   "source": [
    "The highest accuracy is obtained for max_depth = 10"
   ]
  },
  {
   "cell_type": "code",
   "execution_count": 25,
   "metadata": {},
   "outputs": [
    {
     "name": "stdout",
     "output_type": "stream",
     "text": [
      "Cross-validation accuracy for the random forest model with n_estimators = 12 and max_depth=10: 0.66 (+/- 0.24)\n"
     ]
    }
   ],
   "source": [
    "forest_classifier1 = RandomForestClassifier(n_estimators = 12, max_depth=10, random_state=0)\n",
    "forest_regression_scores1 = cross_val_score(forest_classifier1, covariates, classification_outcome,  cv=20)\n",
    "\n",
    "print(\"Cross-validation accuracy for the random forest model with n_estimators = 12 and max_depth=10: %0.2f (+/- %0.2f)\" % (forest_regression_scores1.mean(), forest_regression_scores1.std() * 2))"
   ]
  },
  {
   "cell_type": "code",
   "execution_count": 26,
   "metadata": {},
   "outputs": [
    {
     "name": "stdout",
     "output_type": "stream",
     "text": [
      "Cross-validation accuracy for the random forest model with n_estimators = 18 and max_depth=10: 0.64 (+/- 0.25)\n"
     ]
    }
   ],
   "source": [
    "forest_classifier2 = RandomForestClassifier(n_estimators = 18, max_depth=10, random_state=0)\n",
    "forest_regression_scores2 = cross_val_score(forest_classifier2, covariates, classification_outcome,  cv=20)\n",
    "\n",
    "print(\"Cross-validation accuracy for the random forest model with n_estimators = 18 and max_depth=10: %0.2f (+/- %0.2f)\" % (forest_regression_scores2.mean(), forest_regression_scores2.std() * 2))"
   ]
  },
  {
   "cell_type": "code",
   "execution_count": 27,
   "metadata": {},
   "outputs": [
    {
     "name": "stdout",
     "output_type": "stream",
     "text": [
      "The test data accuracy for the random forest model with improved hyperparameters:  0.6515151515151516\n"
     ]
    }
   ],
   "source": [
    "# Applying forest with the best hyperparameters\n",
    "pred = list(forest_classifier1.fit(X_train, y_train).predict(X_test))\n",
    "\n",
    "print('The test data accuracy for the random forest model with improved hyperparameters: ', accuracy(pred, list(y_test))/100)"
   ]
  },
  {
   "cell_type": "markdown",
   "metadata": {},
   "source": [
    "<b>Conclusion</b>: After improving hyperparameters the mean score from cross-validation is higher - 66%. Standard deviation from cross-validation is quite high which means that predictions wouldn't be stable. The solution could be to built model on larger data set."
   ]
  },
  {
   "cell_type": "markdown",
   "metadata": {},
   "source": [
    "<b>10. Building model on the whole input data and applying model to obtain predictions for the unlabeled dataset (<i>test_time_series.csv</i>,<i>test_labels.csv</i>)</b>"
   ]
  },
  {
   "cell_type": "code",
   "execution_count": 28,
   "metadata": {},
   "outputs": [],
   "source": [
    "from datetime import datetime\n",
    "first_t = datetime.now() # for run time evaluation\n",
    "\n",
    "X_real = pd.read_csv('https://courses.edx.org/assets/courseware/v1/1ca4f3d4976f07b8c4ecf99cf8f7bdbc/asset-v1:HarvardX+PH526x+1T2020+type@asset+block/test_time_series.csv', index_col = 0)\n",
    "\n",
    "df_real = pd.read_csv('https://courses.edx.org/assets/courseware/v1/72d5933c310cf5eac3fa3f28b26d9c39/asset-v1:HarvardX+PH526x+1T2020+type@asset+block/test_labels.csv', index_col = 0)\n",
    "\n",
    "# Adding rows with np.nan values to handle the index errors - same as in input data\n",
    "X_real.loc[24329] = [np.nan, np.nan, np.nan, np.nan, np.nan, np.nan]\n",
    "\n",
    "df_label_indices = list(df_real.index)\n",
    "for i in df_label_indices:\n",
    "    for j in label_range:\n",
    "        df_real.loc[i, 'x' + str(j)[1:]] = X_real.loc[i + j, 'x']\n",
    "        df_real.loc[i, 'y' + str(j)[1:]] = X_real.loc[i + j, 'y']\n",
    "        df_real.loc[i, 'z' + str(j)[1:]] = X_real.loc[i + j, 'z']"
   ]
  },
  {
   "cell_type": "code",
   "execution_count": 29,
   "metadata": {},
   "outputs": [],
   "source": [
    "# Data transformation  - same steps as data transformation in input data\n",
    "\n",
    "# To predict first index we have to fill np.nan with some value\n",
    "df_real.fillna(0, inplace = True)\n",
    "df_real['meanx'] = df_real[['x1', 'x2', 'x3', 'x4', 'x5', 'x6', 'x7', 'x8', 'x9', 'x10']].mean(axis=1)\n",
    "df_real['meany'] = df_real[['y1', 'y2', 'y3', 'y4', 'y5', 'y6', 'y7', 'y8', 'y9', 'y10']].mean(axis=1)\n",
    "df_real['meanz'] = df_real[['z1', 'z2', 'z3', 'z4', 'z5', 'z6', 'z7', 'z8', 'z9', 'z10']].mean(axis=1)\n",
    "\n",
    "df_real['len1'] = (df_real.x1 ** 2 + df_real.y1 ** 2 + df_real.z1 ** 2) ** (1/2)\n",
    "df_real['len2'] = (df_real.x2 ** 2 + df_real.y2 ** 2 + df_real.z2 ** 2) ** (1/2)\n",
    "df_real['len3'] = (df_real.x3 ** 2 + df_real.y3 ** 2 + df_real.z3 ** 2) ** (1/2)\n",
    "df_real['len4'] = (df_real.x4 ** 2 + df_real.y4 ** 2 + df_real.z4 ** 2) ** (1/2)\n",
    "df_real['len5'] = (df_real.x5 ** 2 + df_real.y5 ** 2 + df_real.z5 ** 2) ** (1/2)\n",
    "df_real['len6'] = (df_real.x6 ** 2 + df_real.y6 ** 2 + df_real.z6 ** 2) ** (1/2)\n",
    "df_real['len7'] = (df_real.x7 ** 2 + df_real.y7 ** 2 + df_real.z7 ** 2) ** (1/2)\n",
    "df_real['len8'] = (df_real.x8 ** 2 + df_real.y8 ** 2 + df_real.z8 ** 2) ** (1/2)\n",
    "df_real['len9'] = (df_real.x9 ** 2 + df_real.y9 ** 2 + df_real.z9 ** 2) ** (1/2)\n",
    "df_real['len10'] = (df_real.x10 ** 2 + df_real.y10 ** 2 + df_real.z10 ** 2) ** (1/2)\n",
    "\n",
    "df_real['x_std'] = df_real[['x1', 'x2', 'x3', 'x4', 'x5', 'x6', 'x7', 'x8', 'x9', 'x10']].std(axis=1)\n",
    "df_real['y_std'] = df_real[['y1', 'y2', 'y3', 'y4', 'y5', 'y6', 'y7', 'y8', 'y9', 'y10']].std(axis=1)\n",
    "df_real['z_std'] = df_real[['z1', 'z2', 'z3', 'z4', 'z5', 'z6', 'z7', 'z8', 'z9', 'z10']].std(axis=1)"
   ]
  },
  {
   "cell_type": "code",
   "execution_count": 30,
   "metadata": {},
   "outputs": [],
   "source": [
    "# Building random forest for the whole dataset\n",
    "classification_outcome = df_alt['label']\n",
    "covariates = df_alt[df_alt.columns[3:]]\n",
    "forest_classifier = RandomForestClassifier(n_estimators = 12, max_depth=10, random_state=0)\n",
    "\n",
    "pred = list(forest_classifier.fit(covariates, classification_outcome).predict(df_real[df_real.columns[3:]]))\n",
    "\n",
    "sec_t = datetime.now()"
   ]
  },
  {
   "cell_type": "code",
   "execution_count": 31,
   "metadata": {},
   "outputs": [
    {
     "name": "stdout",
     "output_type": "stream",
     "text": [
      "length of predictions: 125\n",
      "[2, 3, 3, 4, 3, 3, 3, 3, 2, 4, 2, 4, 3, 1, 2, 3, 4, 3, 3, 3, 4, 3, 3, 4, 3, 3, 3, 3, 3, 3, 4, 3, 2, 3, 1, 1, 1, 1, 1, 1, 1, 1, 1, 1, 1, 1, 1, 1, 1, 1, 1, 1, 1, 2, 3, 2, 3, 3, 4, 3, 4, 2, 3, 2, 3, 3, 3, 3, 3, 3, 3, 2, 2, 2, 3, 3, 2, 3, 3, 3, 4, 4, 3, 3, 3, 3, 4, 3, 2, 2, 2, 2, 2, 3, 2, 2, 2, 2, 3, 2, 2, 3, 2, 2, 2, 2, 2, 2, 3, 2, 4, 2, 2, 3, 3, 2, 2, 3, 2, 2, 2, 3, 2, 2, 2]\n",
      "time: 0:00:03.787781\n"
     ]
    }
   ],
   "source": [
    "print('length of predictions: ' + str(len(pred)))\n",
    "print(pred)\n",
    "pd.DataFrame(pred).to_csv('label_predictions.csv', index = False, header=False )\n",
    "print('time: ' + str(sec_t - first_t))"
   ]
  },
  {
   "cell_type": "markdown",
   "metadata": {},
   "source": [
    "<b>IV CONSLUSION</b> \n",
    "\n",
    "As expected the random forest proved to give more accurate predictions than KNN. It is possible to achive better prediction accuracy by providing more spohisticated features obtained from tri-axial data probably with some expert-based knowledge from the field. Perhaps better results could be achieved by builing model on larger data set."
   ]
  }
 ],
 "metadata": {
  "kernelspec": {
   "display_name": "Python 3",
   "language": "python",
   "name": "python3"
  },
  "language_info": {
   "codemirror_mode": {
    "name": "ipython",
    "version": 3
   },
   "file_extension": ".py",
   "mimetype": "text/x-python",
   "name": "python",
   "nbconvert_exporter": "python",
   "pygments_lexer": "ipython3",
   "version": "3.7.5"
  }
 },
 "nbformat": 4,
 "nbformat_minor": 4
}
